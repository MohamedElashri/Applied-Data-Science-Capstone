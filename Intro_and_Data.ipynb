{
  "nbformat": 4,
  "nbformat_minor": 0,
  "metadata": {
    "colab": {
      "name": "Intro and Data.ipynb",
      "provenance": [],
      "collapsed_sections": [],
      "authorship_tag": "ABX9TyMg4CFuOt3RhKtGQ7/WB3Ec",
      "include_colab_link": true
    },
    "kernelspec": {
      "name": "python3",
      "display_name": "Python 3"
    }
  },
  "cells": [
    {
      "cell_type": "markdown",
      "metadata": {
        "id": "view-in-github",
        "colab_type": "text"
      },
      "source": [
        "<a href=\"https://colab.research.google.com/github/MohamedElashri/Applied-Data-Science-Capstone/blob/master/Intro_and_Data.ipynb\" target=\"_parent\"><img src=\"https://colab.research.google.com/assets/colab-badge.svg\" alt=\"Open In Colab\"/></a>"
      ]
    },
    {
      "cell_type": "markdown",
      "metadata": {
        "id": "-cJeDwMnlYYE",
        "colab_type": "text"
      },
      "source": [
        "# Introduction"
      ]
    },
    {
      "cell_type": "markdown",
      "metadata": {
        "id": "A1eE7rJUlbK8",
        "colab_type": "text"
      },
      "source": [
        "A bookstore is a place where different kinds of textbooks or reference books are\n",
        "sold. It is a very important place for all educated persons. Most of the customers of\n",
        "the bookstore are book lovers of all ages. It is mostly familiar to the students. In a\n",
        "bookstore, there are different shelves which are nicely arranged. From a book shop,\n",
        "we can buy our textbooks, story books, novels, dictionaries, science fiction books\n",
        "etc. In fact, a bookstore always plays an important role for the readers and mostly\n",
        "the students. There are many bookstores in the city of New York. Serious\n",
        "considerations are required to open a new bookstore than it seems. So the location\n",
        "of the bookstore is one of the most important decisions that will determine whether the bookstore will be a successful investment or failure."
      ]
    },
    {
      "cell_type": "markdown",
      "metadata": {
        "id": "PpfTTKFNlxFt",
        "colab_type": "text"
      },
      "source": [
        "##  Business prespective "
      ]
    },
    {
      "cell_type": "markdown",
      "metadata": {
        "id": "dY61-uAXl3WQ",
        "colab_type": "text"
      },
      "source": [
        "The aim of this project is to assist investor who wants to open a new bookstore in new york. data science methodology and\n",
        "machine learning techniques like clustering are used. The provided solution gives answer to the question: If an investor wants to open a new bookstore, what would be the best place that you recommend to open?"
      ]
    },
    {
      "cell_type": "markdown",
      "metadata": {
        "id": "QBwll1hKmIL-",
        "colab_type": "text"
      },
      "source": [
        "# Data"
      ]
    },
    {
      "cell_type": "markdown",
      "metadata": {
        "id": "OnO8mbWmmLOW",
        "colab_type": "text"
      },
      "source": [
        "To procced with this project we will need the following data \n",
        "\n",
        "\n",
        "*   List of neighborhoods in New York.\n",
        "*   Latitude and longitude coordinates of those neighborhoods\n",
        "*   Venue data specially bookstores are used to perform clustering\n",
        "\n",
        "New York  has a total of 5 boroughs and 306 neighborhoods. In order to segement the neighborhoods and explore them, we will essentially need a dataset that contains the 5 boroughs and the neighborhoods that exist in each borough as well as the the latitude and logitude coordinates of each neighborhood which can be obtained for free from: https://geo.nyu.edu/catalog/nyu_2451_34572\n",
        "\n",
        "\n",
        "\n"
      ]
    }
  ]
}